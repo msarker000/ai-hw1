{
 "cells": [
  {
   "cell_type": "code",
   "execution_count": 1,
   "metadata": {},
   "outputs": [],
   "source": [
    "#https://www.tensorflow.org/tutorials/keras/save_and_load\n",
    "#https://keras.io/visualization/"
   ]
  },
  {
   "cell_type": "code",
   "execution_count": 2,
   "metadata": {},
   "outputs": [
    {
     "name": "stderr",
     "output_type": "stream",
     "text": [
      "/Users/ayub/anaconda3/lib/python3.6/site-packages/h5py/__init__.py:36: FutureWarning: Conversion of the second argument of issubdtype from `float` to `np.floating` is deprecated. In future, it will be treated as `np.float64 == np.dtype(float).type`.\n",
      "  from ._conv import register_converters as _register_converters\n"
     ]
    }
   ],
   "source": [
    "import tensorflow as tf\n",
    "import numpy as np\n",
    "import math\n",
    "import matplotlib.pyplot as plt\n",
    "from tensorflow import keras\n",
    "%matplotlib inline"
   ]
  },
  {
   "cell_type": "code",
   "execution_count": 3,
   "metadata": {},
   "outputs": [],
   "source": [
    "seed=42\n",
    "np.random.seed(seed)\n",
    "tf.set_random_seed(seed)\n",
    "N = 1000  # num_samples_per_class\n",
    "D = 2  # dimensions\n",
    "C = 3  # num_classes\n",
    "H = 100  # num_hidden_units"
   ]
  },
  {
   "cell_type": "code",
   "execution_count": 4,
   "metadata": {},
   "outputs": [
    {
     "name": "stdout",
     "output_type": "stream",
     "text": [
      "SHAPES:\n",
      "-------------------\n",
      "X:(3000, 2)\n",
      "y:(3000,)\n"
     ]
    }
   ],
   "source": [
    "X = np.zeros((N * C, D), dtype=np.float64)\n",
    "y = np.zeros(N * C, dtype=np.float64)\n",
    "\n",
    "for i in range(C):\n",
    "    index = 0\n",
    "    r = np.linspace(0.0, 1.0, N)\n",
    "    t = np.linspace(\n",
    "        i * 2 * math.pi / C,\n",
    "        (i + 2) * 2 * math.pi / C,\n",
    "        N\n",
    "    ) + np.random.randn(N) * 0.1\n",
    "    \n",
    "    for ix in range(N * i, N * (i + 1)):\n",
    "        X[ix] = np.multiply(r[index],((np.float64(math.sin(t[index])), np.float64(math.cos(t[index])))))\n",
    "        y[ix] = i\n",
    "        index += 1\n",
    "\n",
    "print(\"SHAPES:\")\n",
    "print(\"-------------------\")\n",
    "print(\"X:\"+ str(X.shape))\n",
    "print(\"y:\"+ str(y.shape))\n"
   ]
  },
  {
   "cell_type": "code",
   "execution_count": 5,
   "metadata": {},
   "outputs": [],
   "source": [
    "def plot_model(X, y, model, e=.0, auto=False):\n",
    "    \"\"\"\n",
    "    Plot the model from torch weights.\n",
    "    \"\"\"\n",
    "    \n",
    "    X = X.numpy()\n",
    "    y = y.numpy(),\n",
    "    w1 = torch.transpose(model.fc1.weight.data, 0, 1).numpy()\n",
    "    b1 = model.fc1.bias.data.numpy()\n",
    "    w2 = torch.transpose(model.fc2.weight.data, 0, 1).numpy()\n",
    "    b2 = model.fc2.bias.data.numpy()\n",
    "    \n",
    "    h = 0.01\n",
    "\n",
    "    x_min, x_max = (-1.1, 1.1)\n",
    "    y_min, y_max = (-1.1, 1.1)\n",
    "    \n",
    "    if auto is True:\n",
    "        x_min, x_max = X[:, 0].min() - 1, X[:, 0].max() + 1\n",
    "        y_min, y_max = X[:, 1].min() - 1, X[:, 1].max() + 1\n",
    "    xx, yy = np.meshgrid(np.arange(x_min, x_max, h),\n",
    "                         np.arange(y_min, y_max, h))\n",
    "    Z = np.dot(np.maximum(0, np.dot(np.c_[xx.ravel(), yy.ravel()], w1) + b1), w2) + b2\n",
    "    Z = np.argmax(Z, axis=1)\n",
    "    Z = Z.reshape(xx.shape)\n",
    "    fig = plt.figure()\n",
    "    plt.contourf(xx, yy, Z, cmap=plt.cm.Spectral, alpha=0.3)\n",
    "    plt.scatter(X[:, 0], X[:, 1], c=y, s=40, cmap=plt.cm.Spectral)\n",
    "    plt.axis((-1.1, 1.1, -1.1, 1.1))\n",
    "    plt.axis('square')\n",
    "    if auto is True:\n",
    "        plt.axis((xx.min(), xx.max(), yy.min(), yy.max()))\n",
    "    "
   ]
  },
  {
   "cell_type": "code",
   "execution_count": 6,
   "metadata": {
    "scrolled": true
   },
   "outputs": [],
   "source": [
    "def plot_data(X, y, d=.0, auto=False):\n",
    "    \"\"\"\n",
    "    Plot the data.\n",
    "    \"\"\"\n",
    "    plt.clf()\n",
    "    plt.scatter(X[:, 0], X[:, 1], c=y, s=20, cmap=plt.cm.Spectral)\n",
    "    plt.axis('square')\n",
    "    plt.axis((-1.1, 1.1, -1.1, 1.1))\n",
    "    if auto is True: plt.axis('equal')\n",
    "#     plt.savefig('spiral{:.2f}.png'.format(d))"
   ]
  },
  {
   "cell_type": "code",
   "execution_count": 7,
   "metadata": {},
   "outputs": [
    {
     "data": {
      "image/png": "[encoded data removed]",
      "text/plain": [
       "<Figure size 432x288 with 1 Axes>"
      ]
     },
     "metadata": {},
     "output_type": "display_data"
    }
   ],
   "source": [
    "# Create the data\n",
    "plot_data(X, y)"
   ]
  },
  {
   "cell_type": "code",
   "execution_count": 8,
   "metadata": {},
   "outputs": [
    {
     "name": "stdout",
     "output_type": "stream",
     "text": [
      "WARNING:tensorflow:From /Users/ayub/anaconda3/lib/python3.6/site-packages/tensorflow/python/ops/resource_variable_ops.py:435: colocate_with (from tensorflow.python.framework.ops) is deprecated and will be removed in a future version.\n",
      "Instructions for updating:\n",
      "Colocations handled automatically by placer.\n",
      "_________________________________________________________________\n",
      "Layer (type)                 Output Shape              Param #   \n",
      "=================================================================\n",
      "dense (Dense)                (None, 16)                48        \n",
      "_________________________________________________________________\n",
      "dense_1 (Dense)              (None, 3)                 51        \n",
      "=================================================================\n",
      "Total params: 99\n",
      "Trainable params: 99\n",
      "Non-trainable params: 0\n",
      "_________________________________________________________________\n",
      "None\n"
     ]
    }
   ],
   "source": [
    "\n",
    "training_epochs = 500\n",
    "n_neurons_in_h1 = 60\n",
    "n_neurons_in_h2 = 60\n",
    "learning_rate = 0.01\n",
    "\n",
    "N = 1000  # num_samples_per_class\n",
    "D = 2  # dimensions\n",
    "C = 3  # num_classes\n",
    "H = 100  # num_hidden_unit\n",
    "n_features = N*C*D\n",
    "n_classes =N*C\n",
    "\n",
    "from tensorflow import keras\n",
    "\n",
    "\n",
    "# Define a sequential model\n",
    "#model = tf.keras.Sequential()\n",
    "# Define the hidden layer\n",
    "#model.add(tf.keras.layers.Dense(16, activation='relu', input_shape=(3000*2,)))\n",
    "# Define the output layer\n",
    "#model.add(tf.keras.layers.Dense(4, activation='softmax'))\n",
    "model = keras.Sequential([\n",
    "    keras.layers.Dense(16, activation='relu', input_shape=(2,)),\n",
    "    keras.layers.Dense(3, activation='softmax')\n",
    "])\n",
    "model.compile('adam', loss='sparse_categorical_crossentropy', metrics=['sparse_categorical_accuracy'])\n",
    "# Summarize the model\n",
    "print(model.summary())"
   ]
  },
  {
   "cell_type": "code",
   "execution_count": 9,
   "metadata": {},
   "outputs": [
    {
     "name": "stdout",
     "output_type": "stream",
     "text": [
      "(3000, 2)\n",
      "(3000,)\n"
     ]
    }
   ],
   "source": [
    "print(X.shape)\n",
    "print(y.shape)"
   ]
  },
  {
   "cell_type": "code",
   "execution_count": null,
   "metadata": {},
   "outputs": [
    {
     "name": "stdout",
     "output_type": "stream",
     "text": [
      "Train on 2400 samples, validate on 600 samples\n",
      "Epoch 1/100\n",
      "2400/2400 [==============================] - 0s 100us/sample - loss: 0.0188 - sparse_categorical_accuracy: 0.9967 - val_loss: 14.7990 - val_sparse_categorical_accuracy: 0.0283\n",
      "Epoch 2/100\n",
      "2400/2400 [==============================] - 0s 94us/sample - loss: 0.0186 - sparse_categorical_accuracy: 0.9971 - val_loss: 14.8065 - val_sparse_categorical_accuracy: 0.0283\n",
      "Epoch 3/100\n",
      "2400/2400 [==============================] - 0s 94us/sample - loss: 0.0186 - sparse_categorical_accuracy: 0.9971 - val_loss: 14.8079 - val_sparse_categorical_accuracy: 0.0283\n",
      "Epoch 4/100\n",
      "2400/2400 [==============================] - 0s 98us/sample - loss: 0.0184 - sparse_categorical_accuracy: 0.9962 - val_loss: 14.8063 - val_sparse_categorical_accuracy: 0.0283\n",
      "Epoch 5/100\n",
      "2400/2400 [==============================] - 0s 102us/sample - loss: 0.0183 - sparse_categorical_accuracy: 0.9971 - val_loss: 14.8146 - val_sparse_categorical_accuracy: 0.0283\n",
      "Epoch 6/100\n",
      "2400/2400 [==============================] - 0s 110us/sample - loss: 0.0182 - sparse_categorical_accuracy: 0.9967 - val_loss: 14.8134 - val_sparse_categorical_accuracy: 0.0283\n",
      "Epoch 7/100\n",
      "2400/2400 [==============================] - 0s 110us/sample - loss: 0.0180 - sparse_categorical_accuracy: 0.9975 - val_loss: 14.8381 - val_sparse_categorical_accuracy: 0.0283\n",
      "Epoch 8/100\n",
      "2400/2400 [==============================] - 0s 89us/sample - loss: 0.0179 - sparse_categorical_accuracy: 0.9967 - val_loss: 14.8355 - val_sparse_categorical_accuracy: 0.0283\n",
      "Epoch 9/100\n",
      "2400/2400 [==============================] - 0s 96us/sample - loss: 0.0179 - sparse_categorical_accuracy: 0.9962 - val_loss: 14.8363 - val_sparse_categorical_accuracy: 0.0283\n",
      "Epoch 10/100\n",
      "2400/2400 [==============================] - 0s 90us/sample - loss: 0.0177 - sparse_categorical_accuracy: 0.9971 - val_loss: 14.8371 - val_sparse_categorical_accuracy: 0.0283\n",
      "Epoch 11/100\n",
      "2400/2400 [==============================] - 0s 94us/sample - loss: 0.0176 - sparse_categorical_accuracy: 0.9967 - val_loss: 14.8462 - val_sparse_categorical_accuracy: 0.0283\n",
      "Epoch 12/100\n",
      "2400/2400 [==============================] - 0s 102us/sample - loss: 0.0176 - sparse_categorical_accuracy: 0.9975 - val_loss: 14.8459 - val_sparse_categorical_accuracy: 0.0283\n",
      "Epoch 13/100\n",
      "2400/2400 [==============================] - 0s 99us/sample - loss: 0.0174 - sparse_categorical_accuracy: 0.9979 - val_loss: 14.8717 - val_sparse_categorical_accuracy: 0.0283\n",
      "Epoch 14/100\n",
      "2400/2400 [==============================] - 0s 107us/sample - loss: 0.0173 - sparse_categorical_accuracy: 0.9971 - val_loss: 14.8639 - val_sparse_categorical_accuracy: 0.0283\n",
      "Epoch 15/100\n",
      "2400/2400 [==============================] - 0s 90us/sample - loss: 0.0172 - sparse_categorical_accuracy: 0.9971 - val_loss: 14.8836 - val_sparse_categorical_accuracy: 0.0283\n",
      "Epoch 16/100\n",
      "2400/2400 [==============================] - 0s 101us/sample - loss: 0.0170 - sparse_categorical_accuracy: 0.9971 - val_loss: 14.8787 - val_sparse_categorical_accuracy: 0.0283\n",
      "Epoch 17/100\n",
      "2400/2400 [==============================] - 0s 92us/sample - loss: 0.0170 - sparse_categorical_accuracy: 0.9971 - val_loss: 14.8785 - val_sparse_categorical_accuracy: 0.0283\n",
      "Epoch 18/100\n",
      "2400/2400 [==============================] - 0s 111us/sample - loss: 0.0168 - sparse_categorical_accuracy: 0.9971 - val_loss: 14.8942 - val_sparse_categorical_accuracy: 0.0283\n",
      "Epoch 19/100\n",
      "2400/2400 [==============================] - 0s 102us/sample - loss: 0.0167 - sparse_categorical_accuracy: 0.9971 - val_loss: 14.8889 - val_sparse_categorical_accuracy: 0.0283\n",
      "Epoch 20/100\n",
      "2400/2400 [==============================] - 0s 101us/sample - loss: 0.0166 - sparse_categorical_accuracy: 0.9971 - val_loss: 14.9007 - val_sparse_categorical_accuracy: 0.0283\n",
      "Epoch 21/100\n",
      "2400/2400 [==============================] - 0s 108us/sample - loss: 0.0166 - sparse_categorical_accuracy: 0.9971 - val_loss: 14.8973 - val_sparse_categorical_accuracy: 0.0283\n",
      "Epoch 22/100\n",
      "2400/2400 [==============================] - 0s 116us/sample - loss: 0.0165 - sparse_categorical_accuracy: 0.9979 - val_loss: 14.9039 - val_sparse_categorical_accuracy: 0.0283\n",
      "Epoch 23/100\n",
      "2400/2400 [==============================] - 0s 110us/sample - loss: 0.0163 - sparse_categorical_accuracy: 0.9967 - val_loss: 14.9149 - val_sparse_categorical_accuracy: 0.0283\n",
      "Epoch 24/100\n",
      "2400/2400 [==============================] - 0s 106us/sample - loss: 0.0163 - sparse_categorical_accuracy: 0.9975 - val_loss: 14.9238 - val_sparse_categorical_accuracy: 0.0283\n",
      "Epoch 25/100\n",
      "2400/2400 [==============================] - 0s 102us/sample - loss: 0.0161 - sparse_categorical_accuracy: 0.9971 - val_loss: 14.9288 - val_sparse_categorical_accuracy: 0.0267\n",
      "Epoch 26/100\n",
      "2400/2400 [==============================] - 0s 109us/sample - loss: 0.0160 - sparse_categorical_accuracy: 0.9975 - val_loss: 14.9350 - val_sparse_categorical_accuracy: 0.0267\n",
      "Epoch 27/100\n",
      "2400/2400 [==============================] - 0s 107us/sample - loss: 0.0159 - sparse_categorical_accuracy: 0.9971 - val_loss: 14.9281 - val_sparse_categorical_accuracy: 0.0283\n",
      "Epoch 28/100\n",
      "2400/2400 [==============================] - 0s 94us/sample - loss: 0.0158 - sparse_categorical_accuracy: 0.9971 - val_loss: 14.9214 - val_sparse_categorical_accuracy: 0.0283\n",
      "Epoch 29/100\n",
      "2400/2400 [==============================] - 0s 104us/sample - loss: 0.0158 - sparse_categorical_accuracy: 0.9971 - val_loss: 14.9277 - val_sparse_categorical_accuracy: 0.0283\n",
      "Epoch 30/100\n",
      "2400/2400 [==============================] - 0s 108us/sample - loss: 0.0156 - sparse_categorical_accuracy: 0.9979 - val_loss: 14.9483 - val_sparse_categorical_accuracy: 0.0267\n",
      "Epoch 31/100\n",
      "2400/2400 [==============================] - 0s 105us/sample - loss: 0.0155 - sparse_categorical_accuracy: 0.9975 - val_loss: 14.9414 - val_sparse_categorical_accuracy: 0.0283\n",
      "Epoch 32/100\n",
      "2400/2400 [==============================] - 0s 117us/sample - loss: 0.0154 - sparse_categorical_accuracy: 0.9975 - val_loss: 14.9434 - val_sparse_categorical_accuracy: 0.0283\n",
      "Epoch 33/100\n",
      "2400/2400 [==============================] - 0s 101us/sample - loss: 0.0154 - sparse_categorical_accuracy: 0.9975 - val_loss: 14.9596 - val_sparse_categorical_accuracy: 0.0267\n",
      "Epoch 34/100\n",
      "2400/2400 [==============================] - 0s 103us/sample - loss: 0.0152 - sparse_categorical_accuracy: 0.9975 - val_loss: 14.9614 - val_sparse_categorical_accuracy: 0.0267\n",
      "Epoch 35/100\n",
      "2400/2400 [==============================] - 0s 112us/sample - loss: 0.0153 - sparse_categorical_accuracy: 0.9967 - val_loss: 14.9634 - val_sparse_categorical_accuracy: 0.0267\n",
      "Epoch 36/100\n",
      "2400/2400 [==============================] - 0s 128us/sample - loss: 0.0151 - sparse_categorical_accuracy: 0.9975 - val_loss: 14.9703 - val_sparse_categorical_accuracy: 0.0267\n",
      "Epoch 37/100\n",
      "2400/2400 [==============================] - 0s 103us/sample - loss: 0.0150 - sparse_categorical_accuracy: 0.9979 - val_loss: 14.9706 - val_sparse_categorical_accuracy: 0.0267\n",
      "Epoch 38/100\n",
      "2400/2400 [==============================] - 0s 108us/sample - loss: 0.0150 - sparse_categorical_accuracy: 0.9975 - val_loss: 14.9873 - val_sparse_categorical_accuracy: 0.0250\n",
      "Epoch 39/100\n",
      "2400/2400 [==============================] - 0s 112us/sample - loss: 0.0149 - sparse_categorical_accuracy: 0.9979 - val_loss: 14.9845 - val_sparse_categorical_accuracy: 0.0250\n",
      "Epoch 40/100\n",
      "2400/2400 [==============================] - 0s 94us/sample - loss: 0.0148 - sparse_categorical_accuracy: 0.9967 - val_loss: 14.9771 - val_sparse_categorical_accuracy: 0.0267\n",
      "Epoch 41/100\n",
      "2400/2400 [==============================] - 0s 89us/sample - loss: 0.0147 - sparse_categorical_accuracy: 0.9975 - val_loss: 14.9735 - val_sparse_categorical_accuracy: 0.0267\n",
      "Epoch 42/100\n",
      "2400/2400 [==============================] - 0s 89us/sample - loss: 0.0146 - sparse_categorical_accuracy: 0.9975 - val_loss: 14.9818 - val_sparse_categorical_accuracy: 0.0267\n",
      "Epoch 43/100\n",
      "2400/2400 [==============================] - 0s 87us/sample - loss: 0.0146 - sparse_categorical_accuracy: 0.9975 - val_loss: 14.9970 - val_sparse_categorical_accuracy: 0.0250\n",
      "Epoch 44/100\n"
     ]
    },
    {
     "name": "stdout",
     "output_type": "stream",
     "text": [
      "2400/2400 [==============================] - 0s 90us/sample - loss: 0.0145 - sparse_categorical_accuracy: 0.9979 - val_loss: 14.9968 - val_sparse_categorical_accuracy: 0.0250\n",
      "Epoch 45/100\n",
      "2400/2400 [==============================] - 0s 95us/sample - loss: 0.0144 - sparse_categorical_accuracy: 0.9975 - val_loss: 14.9910 - val_sparse_categorical_accuracy: 0.0267\n",
      "Epoch 46/100\n",
      "2400/2400 [==============================] - 0s 86us/sample - loss: 0.0142 - sparse_categorical_accuracy: 0.9975 - val_loss: 14.9953 - val_sparse_categorical_accuracy: 0.0267\n",
      "Epoch 47/100\n",
      "2400/2400 [==============================] - 0s 85us/sample - loss: 0.0142 - sparse_categorical_accuracy: 0.9979 - val_loss: 15.0066 - val_sparse_categorical_accuracy: 0.0250\n",
      "Epoch 48/100\n",
      "2400/2400 [==============================] - 0s 84us/sample - loss: 0.0141 - sparse_categorical_accuracy: 0.9975 - val_loss: 14.9941 - val_sparse_categorical_accuracy: 0.0267\n",
      "Epoch 49/100\n",
      "2400/2400 [==============================] - 0s 91us/sample - loss: 0.0141 - sparse_categorical_accuracy: 0.9979 - val_loss: 15.0193 - val_sparse_categorical_accuracy: 0.0250\n",
      "Epoch 50/100\n",
      "2400/2400 [==============================] - 0s 100us/sample - loss: 0.0140 - sparse_categorical_accuracy: 0.9975 - val_loss: 15.0092 - val_sparse_categorical_accuracy: 0.0267\n",
      "Epoch 51/100\n",
      "2400/2400 [==============================] - 0s 92us/sample - loss: 0.0139 - sparse_categorical_accuracy: 0.9975 - val_loss: 15.0210 - val_sparse_categorical_accuracy: 0.0250\n",
      "Epoch 52/100\n",
      "2400/2400 [==============================] - 0s 92us/sample - loss: 0.0138 - sparse_categorical_accuracy: 0.9979 - val_loss: 15.0135 - val_sparse_categorical_accuracy: 0.0267\n",
      "Epoch 53/100\n",
      "2400/2400 [==============================] - 0s 97us/sample - loss: 0.0139 - sparse_categorical_accuracy: 0.9971 - val_loss: 15.0156 - val_sparse_categorical_accuracy: 0.0267\n",
      "Epoch 54/100\n",
      "2400/2400 [==============================] - 0s 88us/sample - loss: 0.0137 - sparse_categorical_accuracy: 0.9979 - val_loss: 15.0174 - val_sparse_categorical_accuracy: 0.0267\n",
      "Epoch 55/100\n",
      "2400/2400 [==============================] - 0s 95us/sample - loss: 0.0136 - sparse_categorical_accuracy: 0.9979 - val_loss: 15.0254 - val_sparse_categorical_accuracy: 0.0250\n",
      "Epoch 56/100\n",
      "2400/2400 [==============================] - 0s 85us/sample - loss: 0.0135 - sparse_categorical_accuracy: 0.9979 - val_loss: 15.0326 - val_sparse_categorical_accuracy: 0.0250\n",
      "Epoch 57/100\n",
      "2400/2400 [==============================] - 0s 94us/sample - loss: 0.0135 - sparse_categorical_accuracy: 0.9975 - val_loss: 15.0388 - val_sparse_categorical_accuracy: 0.0250\n",
      "Epoch 58/100\n",
      "2400/2400 [==============================] - 0s 93us/sample - loss: 0.0134 - sparse_categorical_accuracy: 0.9975 - val_loss: 15.0412 - val_sparse_categorical_accuracy: 0.0250\n",
      "Epoch 59/100\n",
      "2400/2400 [==============================] - 0s 87us/sample - loss: 0.0133 - sparse_categorical_accuracy: 0.9971 - val_loss: 15.0427 - val_sparse_categorical_accuracy: 0.0250\n",
      "Epoch 60/100\n",
      "2400/2400 [==============================] - 0s 89us/sample - loss: 0.0133 - sparse_categorical_accuracy: 0.9979 - val_loss: 15.0583 - val_sparse_categorical_accuracy: 0.0233\n",
      "Epoch 61/100\n",
      "2400/2400 [==============================] - 0s 93us/sample - loss: 0.0132 - sparse_categorical_accuracy: 0.9975 - val_loss: 15.0384 - val_sparse_categorical_accuracy: 0.0267\n",
      "Epoch 62/100\n",
      "2400/2400 [==============================] - 0s 95us/sample - loss: 0.0132 - sparse_categorical_accuracy: 0.9971 - val_loss: 15.0438 - val_sparse_categorical_accuracy: 0.0250\n",
      "Epoch 63/100\n",
      "2400/2400 [==============================] - 0s 87us/sample - loss: 0.0130 - sparse_categorical_accuracy: 0.9975 - val_loss: 15.0529 - val_sparse_categorical_accuracy: 0.0250\n",
      "Epoch 64/100\n",
      "2400/2400 [==============================] - 0s 88us/sample - loss: 0.0130 - sparse_categorical_accuracy: 0.9975 - val_loss: 15.0521 - val_sparse_categorical_accuracy: 0.0250\n",
      "Epoch 65/100\n",
      "2400/2400 [==============================] - 0s 88us/sample - loss: 0.0130 - sparse_categorical_accuracy: 0.9979 - val_loss: 15.0725 - val_sparse_categorical_accuracy: 0.0233\n",
      "Epoch 66/100\n",
      " 960/2400 [===========>..................] - ETA: 0s - loss: 0.0133 - sparse_categorical_accuracy: 0.9979"
     ]
    }
   ],
   "source": [
    "history = model.fit(X, y, epochs=100, validation_split=0.20)"
   ]
  },
  {
   "cell_type": "code",
   "execution_count": 11,
   "metadata": {},
   "outputs": [
    {
     "ename": "ModuleNotFoundError",
     "evalue": "No module named 'mlxtend'",
     "output_type": "error",
     "traceback": [
      "\u001b[0;31m---------------------------------------------------------------------------\u001b[0m",
      "\u001b[0;31mModuleNotFoundError\u001b[0m                       Traceback (most recent call last)",
      "\u001b[0;32m<ipython-input-11-4e4b181d624c>\u001b[0m in \u001b[0;36m<module>\u001b[0;34m()\u001b[0m\n\u001b[0;32m----> 1\u001b[0;31m \u001b[0;32mfrom\u001b[0m \u001b[0mmlxtend\u001b[0m\u001b[0;34m.\u001b[0m\u001b[0mplotting\u001b[0m \u001b[0;32mimport\u001b[0m \u001b[0mplot_decision_regions\u001b[0m\u001b[0;34m\u001b[0m\u001b[0m\n\u001b[0m",
      "\u001b[0;31mModuleNotFoundError\u001b[0m: No module named 'mlxtend'"
     ]
    }
   ],
   "source": [
    "from mlxtend.plotting import plot_decision_regions"
   ]
  },
  {
   "cell_type": "code",
   "execution_count": null,
   "metadata": {},
   "outputs": [],
   "source": [
    "from tensorflow import keras\n",
    "from tensorflow.keras import layers\n",
    "\n",
    "inputs = keras.Input(shape=(784,), name='digits')\n",
    "x = layers.Dense(64, activation='relu', name='dense_1')(inputs)\n",
    "x = layers.Dense(64, activation='relu', name='dense_2')(x)\n",
    "outputs = layers.Dense(10, name='predictions')(x)\n",
    "\n",
    "model = keras.Model(inputs=inputs, outputs=outputs)\n",
    "\n",
    "(x_train, y_train), (x_test, y_test) = keras.datasets.mnist.load_data()\n",
    "\n",
    "# Preprocess the data (these are Numpy arrays)\n",
    "x_train = x_train.reshape(60000, 784).astype('float32') / 255\n",
    "x_test = x_test.reshape(10000, 784).astype('float32') / 255\n",
    "\n",
    "y_train = y_train.astype('float32')\n",
    "y_test = y_test.astype('float32')\n",
    "\n",
    "# Reserve 10,000 samples for validation\n",
    "x_val = x_train[-10000:]\n",
    "y_val = y_train[-10000:]\n",
    "x_train = x_train[:-10000]\n",
    "y_train = y_train[:-10000]\n",
    "\n",
    "model.compile('adam', loss='sparse_categorical_crossentropy', metrics=['sparse_categorical_accuracy'])\n",
    "print('# Fit model on training data')\n",
    "history = model.fit(x_train, y_train,\n",
    "                    batch_size=64,\n",
    "                    epochs=3,\n",
    "                    # We pass some validation for\n",
    "                    # monitoring validation loss and metrics\n",
    "                    # at the end of each epoch\n",
    "                    validation_data=(x_val, y_val))\n",
    "\n",
    "print('\\nhistory dict:', history.history)"
   ]
  },
  {
   "cell_type": "code",
   "execution_count": null,
   "metadata": {},
   "outputs": [],
   "source": [
    "y_train.shape\n",
    "#x_train.shape\n",
    "#x_train"
   ]
  },
  {
   "cell_type": "code",
   "execution_count": null,
   "metadata": {},
   "outputs": [],
   "source": [
    "X"
   ]
  },
  {
   "cell_type": "code",
   "execution_count": null,
   "metadata": {},
   "outputs": [],
   "source": []
  }
 ],
 "metadata": {
  "kernelspec": {
   "display_name": "Python 3",
   "language": "python",
   "name": "python3"
  },
  "language_info": {
   "codemirror_mode": {
    "name": "ipython",
    "version": 3
   },
   "file_extension": ".py",
   "mimetype": "text/x-python",
   "name": "python",
   "nbconvert_exporter": "python",
   "pygments_lexer": "ipython3",
   "version": "3.6.5"
  }
 },
 "nbformat": 4,
 "nbformat_minor": 2
}
