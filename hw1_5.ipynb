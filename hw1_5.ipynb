{
 "cells": [
  {
   "cell_type": "markdown",
   "metadata": {},
   "source": [
    "## Proof of BP3"
   ]
  },
  {
   "cell_type": "markdown",
   "metadata": {},
   "source": [
    "We have to prove, $\\frac{\\partial C}{\\partial b^l_j} = \\delta^l_j$\n"
   ]
  },
  {
   "cell_type": "markdown",
   "metadata": {},
   "source": [
    "We have to prove, $\\frac{\\partial C}{\\partial b^l_j} = \\delta^l_j$\n",
    "\n",
    "\n",
    "We know , $\\delta_j^l = \\frac{\\partial C}{\\partial z_j^l}$\n",
    "\n",
    "Applying the chain rule, we can re-express the partial derivative above in terms of partial derivatives with respect to the output bias,\n",
    "\n",
    "$\\delta_j^1 = \\sum_k \\frac{\\partial C}{\\partial b_k^l} \\frac{\\partial b_k^l}{\\partial z_j^l }$\n",
    "\n",
    "where the sum is over all neurons $k$ in the output layer. Of course, the output activation $b_k^L$ of the $k^{th}$ neuron depends only on the weighted input $z_j^L$ for the $j_{th}$ neuron when $k=j$ And so $\\frac{\\partial b_k^L}{\\partial z_j^L}$ vanishes when $k≠j$. As a result we can simplify the previous equation to\n",
    "\n",
    "$\\delta_j^1 =  \\frac{\\partial C}{\\partial b_k^l} \\frac{\\partial b_k^l}{\\partial z_j^l }$"
   ]
  },
  {
   "cell_type": "markdown",
   "metadata": {},
   "source": [
    "As the weighted input to the activation function for neuron $j$ in layer $l$ given by\n",
    "\n",
    "$z_j^l = \\sum_k w_{jk}^la_k^{l-1}+b_j^l$\n",
    "\n",
    "we can re-arrange this equation like\n",
    "\n",
    "$b_j^l = z_j^l - \\sum_k w_{jk}^la_k^{l-1}$\n",
    "\n",
    "by doing derivative of above equation with respect to $z$ we get \n",
    "\n",
    "$\\frac{\\partial b_j^l}{\\partial z_j^j} = 1$"
   ]
  },
  {
   "cell_type": "markdown",
   "metadata": {},
   "source": [
    "\n",
    "\n",
    "This proves  BP3\n",
    "$$\\frac{\\partial C}{\\partial b^l_j} = \\delta^l_j$$\n"
   ]
  },
  {
   "cell_type": "markdown",
   "metadata": {},
   "source": [
    "# Proof of BP4"
   ]
  },
  {
   "cell_type": "markdown",
   "metadata": {},
   "source": [
    "we have to prove, $\\frac{\\partial C}{\\partial w^l_{jk}} = a^{l-1}_k \\delta^l_j$\n"
   ]
  },
  {
   "cell_type": "markdown",
   "metadata": {},
   "source": [
    "by applying chain rule, we can write with repect to $z$\n",
    "$\\frac{\\partial C}{\\partial w_{jk}^l} = \\sum_k \\frac{\\partial C}{\\partial z_j^l} \\frac{\\partial  z_j^l}{\\partial w_{jk}^l}$\n",
    "\n",
    "we can discard sum\n",
    "$\\frac{\\partial C}{\\partial w_{jk}^l} =  \\frac{\\partial C}{\\partial z_j^l} \\frac{\\partial  z_j^l}{\\partial w_{jk}^l}$\n",
    "\n",
    "as we know\n",
    "\n",
    "$ \\frac{\\partial C}{\\partial z_j^l} = \\delta_j^l$\n",
    "\n",
    "for other part, $\\frac{\\partial  z_j^l}{\\partial w_{jk}^l}$"
   ]
  },
  {
   "cell_type": "markdown",
   "metadata": {},
   "source": [
    "As the weighted input to the activation function for neuron $j$ in layer $l$ given by\n",
    "\n",
    "$z_j^l = \\sum_k w_{jk}^la_k^{l-1}+b_j^l$\n",
    "\n",
    "by taking derivative with respect $w$, we got\n",
    "\n",
    "$\\frac {\\partial z_j^l}{\\partial w_{jk}^l} = a_k^{l-1} $"
   ]
  },
  {
   "cell_type": "markdown",
   "metadata": {},
   "source": [
    "Which proves BP4\n",
    "$$\\frac{\\partial C}{\\partial w^l_{jk}} = a^{l-1}_k \\delta^l_j$$"
   ]
  },
  {
   "cell_type": "code",
   "execution_count": null,
   "metadata": {},
   "outputs": [],
   "source": []
  }
 ],
 "metadata": {
  "kernelspec": {
   "display_name": "Python 3",
   "language": "python",
   "name": "python3"
  },
  "language_info": {
   "codemirror_mode": {
    "name": "ipython",
    "version": 3
   },
   "file_extension": ".py",
   "mimetype": "text/x-python",
   "name": "python",
   "nbconvert_exporter": "python",
   "pygments_lexer": "ipython3",
   "version": "3.6.5"
  }
 },
 "nbformat": 4,
 "nbformat_minor": 2
}
